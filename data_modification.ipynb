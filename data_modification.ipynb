{
 "cells": [
  {
   "cell_type": "code",
   "execution_count": null,
   "id": "ba378961-ac41-457c-b38a-c4401957b97f",
   "metadata": {},
   "outputs": [],
   "source": [
    "import os\n",
    "import shutil\n",
    "\n",
    "# Define the path for the main directory\n",
    "main_dir = \"../data/chest_xray/test\"  # repeat for train and val\n",
    "\n",
    "# Paths for the existing PNEUMONIA folder and new target folders\n",
    "pneumonia_folder = os.path.join(main_dir, \"PNEUMONIA\")\n",
    "virus_folder = os.path.join(main_dir, \"PNEUMONIA_VIRUS\")\n",
    "bacteria_folder = os.path.join(main_dir, \"PNEUMONIA_BACTERIA\")\n",
    "\n",
    "# Create new directories if they don't exist\n",
    "os.makedirs(virus_folder, exist_ok=True)\n",
    "os.makedirs(bacteria_folder, exist_ok=True)\n",
    "\n",
    "# Move files based on \"virus\" or \"bacteria\" in their filename\n",
    "for filename in os.listdir(pneumonia_folder):\n",
    "    if \"virus\" in filename.lower():\n",
    "        shutil.move(os.path.join(pneumonia_folder, filename), os.path.join(virus_folder, filename))\n",
    "    elif \"bacteria\" in filename.lower():\n",
    "        shutil.move(os.path.join(pneumonia_folder, filename), os.path.join(bacteria_folder, filename))\n",
    "\n",
    "# Optionally remove the old PNEUMONIA folder if empty\n",
    "if not os.listdir(pneumonia_folder):  # Check if the folder is empty\n",
    "    os.rmdir(pneumonia_folder)\n",
    "\n",
    "print(\"Files have been sorted into PNEUMONIA_VIRUS and PNEUMONIA_BACTERIA folders.\")\n"
   ]
  }
 ],
 "metadata": {
  "kernelspec": {
   "display_name": "Python 3 (ipykernel)",
   "language": "python",
   "name": "python3"
  },
  "language_info": {
   "codemirror_mode": {
    "name": "ipython",
    "version": 3
   },
   "file_extension": ".py",
   "mimetype": "text/x-python",
   "name": "python",
   "nbconvert_exporter": "python",
   "pygments_lexer": "ipython3",
   "version": "3.11.9"
  }
 },
 "nbformat": 4,
 "nbformat_minor": 5
}
