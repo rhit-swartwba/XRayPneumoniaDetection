{
 "cells": [
  {
   "cell_type": "markdown",
   "id": "6658f9ae-38d6-4b41-b4ba-34ea728848c5",
   "metadata": {},
   "source": [
    "# VGG Model with 3 cases"
   ]
  },
  {
   "cell_type": "code",
   "execution_count": 1,
   "id": "b6004924-674a-4104-b88d-a9b6160c3f1b",
   "metadata": {},
   "outputs": [],
   "source": [
    "import torch\n",
    "import torch.nn as nn\n",
    "import torch.optim as optim\n",
    "from torch.optim import lr_scheduler\n",
    "from torchvision import datasets, models, transforms\n",
    "from torch.utils.data import DataLoader\n",
    "import os\n",
    "from sklearn.metrics import confusion_matrix, ConfusionMatrixDisplay\n",
    "import matplotlib.pyplot as plt\n",
    "import copy"
   ]
  },
  {
   "cell_type": "code",
   "execution_count": 2,
   "id": "0d2511cd-cc54-434e-bee6-7768b66da76f",
   "metadata": {},
   "outputs": [],
   "source": [
    "# Data transformations with enhanced augmentation\n",
    "data_transforms = {\n",
    "    'train': transforms.Compose([\n",
    "        transforms.Resize((224, 224)),\n",
    "        transforms.RandomHorizontalFlip(),\n",
    "        transforms.RandomRotation(10),\n",
    "        transforms.ColorJitter(brightness=0.2, contrast=0.2, saturation=0.2, hue=0.1),\n",
    "        transforms.RandomAffine(0, shear=10, scale=(0.8, 1.2)),\n",
    "        transforms.ToTensor(),\n",
    "        transforms.Normalize([0.485, 0.456, 0.406], [0.229, 0.224, 0.225])\n",
    "    ]),\n",
    "    'val': transforms.Compose([\n",
    "        transforms.Resize((224, 224)),\n",
    "        transforms.ToTensor(),\n",
    "        transforms.Normalize([0.485, 0.456, 0.406], [0.229, 0.224, 0.225])\n",
    "    ]),\n",
    "    'test': transforms.Compose([\n",
    "        transforms.Resize((224, 224)),\n",
    "        transforms.ToTensor(),\n",
    "        transforms.Normalize([0.485, 0.456, 0.406], [0.229, 0.224, 0.225])\n",
    "    ]),\n",
    "}"
   ]
  },
  {
   "cell_type": "code",
   "execution_count": 3,
   "id": "cf977a94-df26-48a4-9d3f-10cf4fda7028",
   "metadata": {},
   "outputs": [],
   "source": [
    "data_dir = '../data/chest_xray'\n",
    "image_datasets = {\n",
    "    'train': datasets.ImageFolder(os.path.join(data_dir, 'train'), data_transforms['train']),\n",
    "    'val': datasets.ImageFolder(os.path.join(data_dir, 'val'), data_transforms['val']),\n",
    "    'test': datasets.ImageFolder(os.path.join(data_dir, 'test'), data_transforms['test'])\n",
    "}\n",
    "dataloaders = {\n",
    "    'train': DataLoader(image_datasets['train'], batch_size=32, shuffle=True),\n",
    "    'val': DataLoader(image_datasets['val'], batch_size=32, shuffle=False),\n",
    "    'test': DataLoader(image_datasets['test'], batch_size=32, shuffle=False)\n",
    "}"
   ]
  },
  {
   "cell_type": "code",
   "execution_count": 4,
   "id": "46c84e6d-7611-435b-ae05-773d1d95a1d1",
   "metadata": {},
   "outputs": [
    {
     "name": "stdout",
     "output_type": "stream",
     "text": [
      "\n",
      "Class counts in train:\n",
      "NORMAL: 2684\n",
      "PNEUMONIA_BACTERIA: 2530\n",
      "PNEUMONIA_VIRUS: 2690\n",
      "\n",
      "Class counts in val:\n",
      "NORMAL: 8\n",
      "PNEUMONIA_BACTERIA: 8\n",
      "PNEUMONIA_VIRUS: 3\n",
      "\n",
      "Class counts in test:\n",
      "NORMAL: 234\n",
      "PNEUMONIA_BACTERIA: 242\n",
      "PNEUMONIA_VIRUS: 148\n"
     ]
    }
   ],
   "source": [
    "dataset_sizes = {x: len(image_datasets[x]) for x in ['train', 'val', 'test']}\n",
    "class_names = image_datasets['train'].classes\n",
    "\n",
    "# Count class distribution\n",
    "class_counts = {}\n",
    "for phase in ['train', 'val', 'test']:\n",
    "    class_counts[phase] = {class_name: 0 for class_name in class_names}\n",
    "    dataset = image_datasets[phase]\n",
    "    for _, label in dataset.samples:\n",
    "        class_name = class_names[label]\n",
    "        class_counts[phase][class_name] += 1\n",
    "\n",
    "for phase in ['train', 'val', 'test']:\n",
    "    print(f\"\\nClass counts in {phase}:\")\n",
    "    for class_name, count in class_counts[phase].items():\n",
    "        print(f\"{class_name}: {count}\")"
   ]
  },
  {
   "cell_type": "code",
   "execution_count": 5,
   "id": "8547091d-a505-4887-82a8-d806b71adee8",
   "metadata": {},
   "outputs": [
    {
     "name": "stdout",
     "output_type": "stream",
     "text": [
      "cuda\n"
     ]
    }
   ],
   "source": [
    "# Set device\n",
    "device = torch.device(\"cuda\" if torch.cuda.is_available() else \"cpu\")\n",
    "print(device)"
   ]
  },
  {
   "cell_type": "code",
   "execution_count": 6,
   "id": "074ad70a-5e69-4f3e-b1be-1d9c50596193",
   "metadata": {},
   "outputs": [
    {
     "name": "stderr",
     "output_type": "stream",
     "text": [
      "/home/calviet/.local/lib/python3.11/site-packages/torchvision/models/_utils.py:208: UserWarning: The parameter 'pretrained' is deprecated since 0.13 and may be removed in the future, please use 'weights' instead.\n",
      "  warnings.warn(\n",
      "/home/calviet/.local/lib/python3.11/site-packages/torchvision/models/_utils.py:223: UserWarning: Arguments other than a weight enum or `None` for 'weights' are deprecated since 0.13 and may be removed in the future. The current behavior is equivalent to passing `weights=VGG16_BN_Weights.IMAGENET1K_V1`. You can also use `weights=VGG16_BN_Weights.DEFAULT` to get the most up-to-date weights.\n",
      "  warnings.warn(msg)\n",
      "/home/calviet/.local/lib/python3.11/site-packages/torch/optim/lr_scheduler.py:60: UserWarning: The verbose parameter is deprecated. Please use get_last_lr() to access the learning rate.\n",
      "  warnings.warn(\n"
     ]
    }
   ],
   "source": [
    "# Load pre-trained VGG-16 model\n",
    "model = models.vgg16_bn(pretrained=True)\n",
    "\n",
    "# Freeze all layers initially\n",
    "for param in model.features.parameters():\n",
    "    param.requires_grad = False\n",
    "\n",
    "# Unfreeze the last few layers for fine-tuning\n",
    "for param in model.features[-10:].parameters():\n",
    "    param.requires_grad = True\n",
    "\n",
    "# Modify the classifier with dropout and for 3-class classification\n",
    "num_features = model.classifier[6].in_features\n",
    "model.classifier = nn.Sequential(\n",
    "    *list(model.classifier.children())[:-1],  # All layers except the last one\n",
    "    nn.Dropout(0.5),                         # Add dropout layer\n",
    "    nn.Linear(num_features, 3)               # New layer for 3 classes\n",
    ")\n",
    "\n",
    "model = model.to(device)\n",
    "\n",
    "# Define the loss function, optimizer, and learning rate scheduler\n",
    "criterion = nn.CrossEntropyLoss()\n",
    "optimizer = optim.Adam(model.parameters(), lr=0.0001)  # Lower initial learning rate for fine-tuning\n",
    "scheduler = lr_scheduler.ReduceLROnPlateau(optimizer, mode='min', factor=0.1, patience=3, verbose=True)"
   ]
  },
  {
   "cell_type": "code",
   "execution_count": 7,
   "id": "22bfa4d1-4b87-45bb-b615-edbdffd19fcc",
   "metadata": {},
   "outputs": [],
   "source": [
    "# Training function with early stopping and model checkpointing\n",
    "def train_model(model, criterion, optimizer, scheduler, num_epochs=20, patience=5):\n",
    "    best_model_wts = copy.deepcopy(model.state_dict())\n",
    "    best_acc = 0.0\n",
    "    epochs_no_improve = 0\n",
    "\n",
    "    for epoch in range(num_epochs):\n",
    "        print(f'Epoch {epoch+1}/{num_epochs}')\n",
    "        print('-' * 10)\n",
    "\n",
    "        for phase in ['train', 'val']:\n",
    "            if phase == 'train':\n",
    "                model.train()  # Set model to training mode\n",
    "            else:\n",
    "                model.eval()   # Set model to evaluate mode\n",
    "\n",
    "            running_loss = 0.0\n",
    "            running_corrects = 0\n",
    "\n",
    "            for inputs, labels in dataloaders[phase]:\n",
    "                inputs = inputs.to(device)\n",
    "                labels = labels.to(device)\n",
    "\n",
    "                optimizer.zero_grad()\n",
    "\n",
    "                with torch.set_grad_enabled(phase == 'train'):\n",
    "                    outputs = model(inputs)\n",
    "                    _, preds = torch.max(outputs, 1)\n",
    "                    loss = criterion(outputs, labels)\n",
    "\n",
    "                    if phase == 'train':\n",
    "                        loss.backward()\n",
    "                        optimizer.step()\n",
    "\n",
    "                running_loss += loss.item() * inputs.size(0)\n",
    "                running_corrects += torch.sum(preds == labels.data)\n",
    "\n",
    "            epoch_loss = running_loss / dataset_sizes[phase]\n",
    "            epoch_acc = running_corrects.double() / dataset_sizes[phase]\n",
    "\n",
    "            print(f'{phase} Loss: {epoch_loss:.4f} Acc: {epoch_acc:.4f}')\n",
    "\n",
    "            # Adjust learning rate if in validation phase\n",
    "            if phase == 'val':\n",
    "                scheduler.step(epoch_loss)\n",
    "\n",
    "                # Update best model weights and early stopping counter\n",
    "                if epoch_acc > best_acc:\n",
    "                    best_acc = epoch_acc\n",
    "                    best_model_wts = copy.deepcopy(model.state_dict())\n",
    "                    epochs_no_improve = 0  # Reset early stopping counter\n",
    "                else:\n",
    "                    epochs_no_improve += 1\n",
    "\n",
    "                # Early stopping check\n",
    "                if epochs_no_improve == patience:\n",
    "                    print(\"Early stopping due to no improvement\")\n",
    "                    model.load_state_dict(best_model_wts)\n",
    "                    return model\n",
    "\n",
    "    # Load best model weights\n",
    "    model.load_state_dict(best_model_wts)\n",
    "    print('Training complete')\n",
    "    return model\n",
    "\n",
    "# Testing function with confusion matrix\n",
    "def test_model(model):\n",
    "    model.eval()\n",
    "    running_corrects = 0\n",
    "    all_preds = []\n",
    "    all_labels = []\n",
    "\n",
    "    with torch.no_grad():\n",
    "        for inputs, labels in dataloaders['test']:\n",
    "            inputs = inputs.to(device)\n",
    "            labels = labels.to(device)\n",
    "\n",
    "            outputs = model(inputs)\n",
    "            _, preds = torch.max(outputs, 1)\n",
    "\n",
    "            running_corrects += torch.sum(preds == labels.data)\n",
    "            all_preds.extend(preds.cpu().numpy())\n",
    "            all_labels.extend(labels.cpu().numpy())\n",
    "\n",
    "    test_acc = running_corrects.double() / dataset_sizes['test']\n",
    "    print(f'Test Accuracy: {test_acc:.4f}')\n",
    "\n",
    "    # Confusion matrix\n",
    "    cm = confusion_matrix(all_labels, all_preds)\n",
    "    disp = ConfusionMatrixDisplay(confusion_matrix=cm, display_labels=class_names)\n",
    "    disp.plot(cmap=plt.cm.Blues)\n",
    "    plt.title(\"Confusion Matrix\")\n",
    "    plt.show()\n",
    "\n",
    "# Save the best model function\n",
    "def save_model(model, path='vgg16_pneumonia_3class.pth'):\n",
    "    torch.save(model.state_dict(), path)\n",
    "    print(f\"Model saved as {path}\")"
   ]
  },
  {
   "cell_type": "code",
   "execution_count": 8,
   "id": "2a6f4b54-63b5-48b9-b941-c73ef4c8b194",
   "metadata": {},
   "outputs": [
    {
     "name": "stdout",
     "output_type": "stream",
     "text": [
      "Epoch 1/20\n",
      "----------\n",
      "train Loss: 0.5366 Acc: 0.7575\n",
      "val Loss: 1.1526 Acc: 0.4211\n",
      "Epoch 2/20\n",
      "----------\n",
      "train Loss: 0.4177 Acc: 0.8121\n",
      "val Loss: 1.1928 Acc: 0.3684\n",
      "Epoch 3/20\n",
      "----------\n",
      "train Loss: 0.3856 Acc: 0.8335\n",
      "val Loss: 1.3360 Acc: 0.3684\n",
      "Epoch 4/20\n",
      "----------\n",
      "train Loss: 0.3547 Acc: 0.8454\n",
      "val Loss: 0.5600 Acc: 0.6316\n",
      "Epoch 5/20\n",
      "----------\n",
      "train Loss: 0.3307 Acc: 0.8599\n",
      "val Loss: 1.1092 Acc: 0.4737\n",
      "Epoch 6/20\n",
      "----------\n",
      "train Loss: 0.2986 Acc: 0.8726\n",
      "val Loss: 1.0296 Acc: 0.4211\n",
      "Epoch 7/20\n",
      "----------\n",
      "train Loss: 0.2774 Acc: 0.8825\n",
      "val Loss: 0.6487 Acc: 0.6842\n",
      "Epoch 8/20\n",
      "----------\n",
      "train Loss: 0.2654 Acc: 0.8875\n",
      "val Loss: 0.7490 Acc: 0.7368\n",
      "Epoch 9/20\n",
      "----------\n",
      "train Loss: 0.2179 Acc: 0.9111\n",
      "val Loss: 0.8964 Acc: 0.6316\n",
      "Epoch 10/20\n",
      "----------\n",
      "train Loss: 0.1935 Acc: 0.9236\n",
      "val Loss: 1.0355 Acc: 0.6316\n",
      "Epoch 11/20\n",
      "----------\n",
      "train Loss: 0.1840 Acc: 0.9278\n",
      "val Loss: 1.0021 Acc: 0.6316\n",
      "Epoch 12/20\n",
      "----------\n",
      "train Loss: 0.1723 Acc: 0.9291\n",
      "val Loss: 1.0429 Acc: 0.6842\n",
      "Epoch 13/20\n",
      "----------\n",
      "train Loss: 0.1712 Acc: 0.9305\n",
      "val Loss: 1.0540 Acc: 0.6316\n",
      "Early stopping due to no improvement\n"
     ]
    }
   ],
   "source": [
    "model = train_model(model, criterion, optimizer, scheduler, num_epochs=20)"
   ]
  },
  {
   "cell_type": "code",
   "execution_count": 9,
   "id": "03aa99a1-fb9b-4c0d-945d-d7fafa590ded",
   "metadata": {},
   "outputs": [
    {
     "name": "stdout",
     "output_type": "stream",
     "text": [
      "Test Accuracy: 0.8429\n"
     ]
    },
    {
     "data": {
      "image/png": "[encoded data removed]",
      "text/plain": [
       "<Figure size 640x480 with 2 Axes>"
      ]
     },
     "metadata": {},
     "output_type": "display_data"
    }
   ],
   "source": [
    "test_model(model)"
   ]
  },
  {
   "cell_type": "code",
   "execution_count": 10,
   "id": "134dbc3c-f011-4da2-ab41-844742ccde7c",
   "metadata": {},
   "outputs": [
    {
     "name": "stdout",
     "output_type": "stream",
     "text": [
      "Model saved as vgg16_pneumonia_3class.pth\n"
     ]
    }
   ],
   "source": [
    "save_model(model)"
   ]
  }
 ],
 "metadata": {
  "kernelspec": {
   "display_name": "Python 3 (ipykernel)",
   "language": "python",
   "name": "python3"
  },
  "language_info": {
   "codemirror_mode": {
    "name": "ipython",
    "version": 3
   },
   "file_extension": ".py",
   "mimetype": "text/x-python",
   "name": "python",
   "nbconvert_exporter": "python",
   "pygments_lexer": "ipython3",
   "version": "3.11.9"
  }
 },
 "nbformat": 4,
 "nbformat_minor": 5
}
