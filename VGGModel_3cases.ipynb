{
 "cells": [
  {
   "cell_type": "code",
   "execution_count": 1,
   "id": "b6004924-674a-4104-b88d-a9b6160c3f1b",
   "metadata": {},
   "outputs": [],
   "source": [
    "import torch\n",
    "import torch.nn as nn\n",
    "import torch.optim as optim\n",
    "from torch.optim import lr_scheduler\n",
    "from torchvision import datasets, models, transforms\n",
    "from torch.utils.data import DataLoader\n",
    "import os\n",
    "from sklearn.metrics import confusion_matrix, ConfusionMatrixDisplay\n",
    "import matplotlib.pyplot as plt"
   ]
  },
  {
   "cell_type": "code",
   "execution_count": 2,
   "id": "0d2511cd-cc54-434e-bee6-7768b66da76f",
   "metadata": {},
   "outputs": [],
   "source": [
    "# Data transformations\n",
    "data_transforms = {\n",
    "    'train': transforms.Compose([\n",
    "        transforms.Resize((224, 224)),  # VGG-16 expects 224x224 images\n",
    "        transforms.RandomHorizontalFlip(),\n",
    "        transforms.ToTensor(),\n",
    "        transforms.Normalize([0.485, 0.456, 0.406], [0.229, 0.224, 0.225])  # Normalization for pre-trained models\n",
    "    ]),\n",
    "    'val': transforms.Compose([\n",
    "        transforms.Resize((224, 224)),\n",
    "        transforms.ToTensor(),\n",
    "        transforms.Normalize([0.485, 0.456, 0.406], [0.229, 0.224, 0.225])\n",
    "    ]),\n",
    "    'test': transforms.Compose([\n",
    "        transforms.Resize((224, 224)),\n",
    "        transforms.ToTensor(),\n",
    "        transforms.Normalize([0.485, 0.456, 0.406], [0.229, 0.224, 0.225])\n",
    "    ]),\n",
    "}"
   ]
  },
  {
   "cell_type": "code",
   "execution_count": 3,
   "id": "cf977a94-df26-48a4-9d3f-10cf4fda7028",
   "metadata": {},
   "outputs": [],
   "source": [
    "data_dir = '../data/chest_xray'\n",
    "image_datasets = {\n",
    "    'train': datasets.ImageFolder(os.path.join(data_dir, 'train'), data_transforms['train']),\n",
    "    'val': datasets.ImageFolder(os.path.join(data_dir, 'val'), data_transforms['val']),\n",
    "    'test': datasets.ImageFolder(os.path.join(data_dir, 'test'), data_transforms['test'])\n",
    "}\n",
    "\n",
    "dataloaders = {\n",
    "    'train': DataLoader(image_datasets['train'], batch_size=32, shuffle=True),\n",
    "    'val': DataLoader(image_datasets['val'], batch_size=32, shuffle=False),\n",
    "    'test': DataLoader(image_datasets['test'], batch_size=32, shuffle=False)\n",
    "}"
   ]
  },
  {
   "cell_type": "code",
   "execution_count": 4,
   "id": "46c84e6d-7611-435b-ae05-773d1d95a1d1",
   "metadata": {},
   "outputs": [
    {
     "name": "stdout",
     "output_type": "stream",
     "text": [
      "\n",
      "Class counts in train:\n",
      "NORMAL: 1341\n",
      "PNEUMONIA_BACTERIA: 2530\n",
      "PNEUMONIA_VIRUS: 1345\n",
      "\n",
      "Class counts in val:\n",
      "NORMAL: 8\n",
      "PNEUMONIA_BACTERIA: 8\n",
      "PNEUMONIA_VIRUS: 3\n",
      "\n",
      "Class counts in test:\n",
      "NORMAL: 234\n",
      "PNEUMONIA_BACTERIA: 242\n",
      "PNEUMONIA_VIRUS: 148\n"
     ]
    }
   ],
   "source": [
    "dataset_sizes = {x: len(image_datasets[x]) for x in ['train', 'val', 'test']}\n",
    "class_names = image_datasets['train'].classes\n",
    "\n",
    "# Count class distribution\n",
    "class_counts = {}\n",
    "for phase in ['train', 'val', 'test']:\n",
    "    class_counts[phase] = {class_name: 0 for class_name in class_names}\n",
    "    dataset = image_datasets[phase]\n",
    "    for _, label in dataset.samples:\n",
    "        class_name = class_names[label]\n",
    "        class_counts[phase][class_name] += 1\n",
    "\n",
    "for phase in ['train', 'val', 'test']:\n",
    "    print(f\"\\nClass counts in {phase}:\")\n",
    "    for class_name, count in class_counts[phase].items():\n",
    "        print(f\"{class_name}: {count}\")"
   ]
  },
  {
   "cell_type": "code",
   "execution_count": 5,
   "id": "8547091d-a505-4887-82a8-d806b71adee8",
   "metadata": {},
   "outputs": [
    {
     "name": "stdout",
     "output_type": "stream",
     "text": [
      "cuda\n"
     ]
    }
   ],
   "source": [
    "# Set device\n",
    "device = torch.device(\"cuda\" if torch.cuda.is_available() else \"cpu\")\n",
    "print(device)"
   ]
  },
  {
   "cell_type": "code",
   "execution_count": 6,
   "id": "074ad70a-5e69-4f3e-b1be-1d9c50596193",
   "metadata": {},
   "outputs": [
    {
     "name": "stderr",
     "output_type": "stream",
     "text": [
      "/home/calviet/.local/lib/python3.11/site-packages/torchvision/models/_utils.py:208: UserWarning: The parameter 'pretrained' is deprecated since 0.13 and may be removed in the future, please use 'weights' instead.\n",
      "  warnings.warn(\n",
      "/home/calviet/.local/lib/python3.11/site-packages/torchvision/models/_utils.py:223: UserWarning: Arguments other than a weight enum or `None` for 'weights' are deprecated since 0.13 and may be removed in the future. The current behavior is equivalent to passing `weights=VGG16_BN_Weights.IMAGENET1K_V1`. You can also use `weights=VGG16_BN_Weights.DEFAULT` to get the most up-to-date weights.\n",
      "  warnings.warn(msg)\n"
     ]
    }
   ],
   "source": [
    "# Load the VGG-16 with batch normalization\n",
    "model = models.vgg16_bn(pretrained=True)\n",
    "\n",
    "# Freeze training for all layers in the feature extractor\n",
    "for param in model.features.parameters():\n",
    "    param.requires_grad = False\n",
    "\n",
    "# Modify the classifier for three-class classification\n",
    "num_features = model.classifier[6].in_features\n",
    "model.classifier = nn.Sequential(\n",
    "    *list(model.classifier.children())[:-1],  # Keep all layers except the last one\n",
    "    nn.Linear(num_features, 3)  # Add new layer for 3 classes\n",
    ")\n",
    "\n",
    "# Move the model to GPU if available\n",
    "device = torch.device(\"cuda\" if torch.cuda.is_available() else \"cpu\")\n",
    "model = model.to(device)\n",
    "\n",
    "# Define loss function and optimizer\n",
    "criterion = nn.CrossEntropyLoss()  # Cross-entropy for multi-class classification\n",
    "optimizer = optim.SGD(model.parameters(), lr=0.001, momentum=0.9)\n",
    "exp_lr_scheduler = lr_scheduler.StepLR(optimizer, step_size=7, gamma=0.1)\n"
   ]
  },
  {
   "cell_type": "code",
   "execution_count": 7,
   "id": "22bfa4d1-4b87-45bb-b615-edbdffd19fcc",
   "metadata": {},
   "outputs": [],
   "source": [
    "def train_model(model, criterion, optimizer, num_epochs=20):\n",
    "    for epoch in range(num_epochs):\n",
    "        print(f'Epoch {epoch+1}/{num_epochs}')\n",
    "        print('-' * 10)\n",
    "\n",
    "        for phase in ['train', 'val']:\n",
    "            if phase == 'train':\n",
    "                model.train()\n",
    "            else:\n",
    "                model.eval()\n",
    "\n",
    "            running_loss = 0.0\n",
    "            running_corrects = 0\n",
    "\n",
    "            for inputs, labels in dataloaders[phase]:\n",
    "                inputs = inputs.to(device)\n",
    "                labels = labels.to(device)\n",
    "                optimizer.zero_grad()\n",
    "\n",
    "                with torch.set_grad_enabled(phase == 'train'):\n",
    "                    outputs = model(inputs)\n",
    "                    _, preds = torch.max(outputs, 1)\n",
    "                    loss = criterion(outputs, labels)\n",
    "\n",
    "                    if phase == 'train':\n",
    "                        loss.backward()\n",
    "                        optimizer.step()\n",
    "\n",
    "                running_loss += loss.item() * inputs.size(0)\n",
    "                running_corrects += torch.sum(preds == labels.data)\n",
    "\n",
    "            epoch_loss = running_loss / dataset_sizes[phase]\n",
    "            epoch_acc = running_corrects.double() / dataset_sizes[phase]\n",
    "\n",
    "            print(f'{phase} Loss: {epoch_loss:.4f} Acc: {epoch_acc:.4f}')\n",
    "\n",
    "    print('Training complete')\n",
    "\n",
    "def test_model(model):\n",
    "    model.eval()\n",
    "    running_corrects = 0\n",
    "    all_preds = []\n",
    "    all_labels = []\n",
    "\n",
    "    with torch.no_grad():\n",
    "        for inputs, labels in dataloaders['test']:\n",
    "            inputs = inputs.to(device)\n",
    "            labels = labels.to(device)\n",
    "\n",
    "            outputs = model(inputs)\n",
    "            _, preds = torch.max(outputs, 1)\n",
    "\n",
    "            running_corrects += torch.sum(preds == labels.data)\n",
    "\n",
    "            all_preds.extend(preds.cpu().numpy())\n",
    "            all_labels.extend(labels.cpu().numpy())\n",
    "\n",
    "    test_acc = running_corrects.double() / dataset_sizes['test']\n",
    "    print(f'Test Accuracy: {test_acc:.4f}')\n",
    "\n",
    "    # Confusion matrix\n",
    "    cm = confusion_matrix(all_labels, all_preds)\n",
    "    disp = ConfusionMatrixDisplay(confusion_matrix=cm, display_labels=class_names)\n",
    "    disp.plot(cmap=plt.cm.Blues)\n",
    "    plt.title(\"Pneumonia X-Ray Confusion Matrix\")\n",
    "    plt.show()\n",
    "\n",
    "def save_model(model, path='vgg16_pneumonia_3class.pth'):\n",
    "    torch.save(model.state_dict(), path)\n",
    "    print(f\"Model saved as {path}\")"
   ]
  },
  {
   "cell_type": "code",
   "execution_count": null,
   "id": "2a6f4b54-63b5-48b9-b941-c73ef4c8b194",
   "metadata": {},
   "outputs": [
    {
     "name": "stdout",
     "output_type": "stream",
     "text": [
      "Epoch 1/20\n",
      "----------\n",
      "train Loss: 0.6229 Acc: 0.7341\n",
      "val Loss: 0.7564 Acc: 0.6842\n",
      "Epoch 2/20\n",
      "----------\n",
      "train Loss: 0.5030 Acc: 0.7812\n",
      "val Loss: 0.7241 Acc: 0.6842\n",
      "Epoch 3/20\n",
      "----------\n",
      "train Loss: 0.4620 Acc: 0.8004\n",
      "val Loss: 0.6657 Acc: 0.7368\n",
      "Epoch 4/20\n",
      "----------\n",
      "train Loss: 0.4380 Acc: 0.8127\n",
      "val Loss: 0.7113 Acc: 0.7368\n",
      "Epoch 5/20\n",
      "----------\n",
      "train Loss: 0.4110 Acc: 0.8230\n",
      "val Loss: 0.5986 Acc: 0.7368\n",
      "Epoch 6/20\n",
      "----------\n",
      "train Loss: 0.4003 Acc: 0.8206\n",
      "val Loss: 0.7103 Acc: 0.7368\n",
      "Epoch 7/20\n",
      "----------\n",
      "train Loss: 0.3699 Acc: 0.8355\n",
      "val Loss: 0.5003 Acc: 0.7895\n",
      "Epoch 8/20\n",
      "----------\n"
     ]
    }
   ],
   "source": [
    "train_model(model, criterion, optimizer)"
   ]
  },
  {
   "cell_type": "code",
   "execution_count": null,
   "id": "03aa99a1-fb9b-4c0d-945d-d7fafa590ded",
   "metadata": {},
   "outputs": [],
   "source": [
    "test_model(model)"
   ]
  },
  {
   "cell_type": "code",
   "execution_count": null,
   "id": "134dbc3c-f011-4da2-ab41-844742ccde7c",
   "metadata": {},
   "outputs": [],
   "source": [
    "save_model(model)"
   ]
  }
 ],
 "metadata": {
  "kernelspec": {
   "display_name": "Python 3 (ipykernel)",
   "language": "python",
   "name": "python3"
  },
  "language_info": {
   "codemirror_mode": {
    "name": "ipython",
    "version": 3
   },
   "file_extension": ".py",
   "mimetype": "text/x-python",
   "name": "python",
   "nbconvert_exporter": "python",
   "pygments_lexer": "ipython3",
   "version": "3.11.9"
  }
 },
 "nbformat": 4,
 "nbformat_minor": 5
}
