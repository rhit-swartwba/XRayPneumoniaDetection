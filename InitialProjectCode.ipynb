{
 "cells": [
  {
   "cell_type": "markdown",
   "id": "be37f433-d118-40a1-ac4c-70654cf8a6ff",
   "metadata": {},
   "source": [
    "# X-Ray CNN Neural Network"
   ]
  },
  {
   "cell_type": "markdown",
   "id": "df4b71ba-ca8f-41be-bdd8-29599c8e54ea",
   "metadata": {},
   "source": [
    "### Authors: Blaise Swartwood, Brian Beasley, Tomasso Calviello"
   ]
  },
  {
   "cell_type": "code",
   "execution_count": 1,
   "id": "55d15636-526c-4c69-873d-01c237b6c562",
   "metadata": {},
   "outputs": [],
   "source": [
    "import torch\n",
    "import torch.nn as nn\n",
    "import torch.optim as optim\n",
    "from torchvision import datasets, models, transforms\n",
    "from torch.utils.data import DataLoader\n",
    "import os\n",
    "from sklearn.metrics import confusion_matrix, ConfusionMatrixDisplay\n",
    "import matplotlib.pyplot as plt"
   ]
  },
  {
   "cell_type": "code",
   "execution_count": 2,
   "id": "557ead62-3e38-4580-b5a0-ea1534378d6f",
   "metadata": {},
   "outputs": [],
   "source": [
    "# Step 1: Set up data transformations\n",
    "data_transforms = {\n",
    "    'train': transforms.Compose([\n",
    "        transforms.Resize((224, 224)),  # ResNet expects 224x224 images\n",
    "        transforms.RandomHorizontalFlip(),\n",
    "        transforms.ToTensor(),\n",
    "        transforms.Normalize([0.485, 0.456, 0.406], [0.229, 0.224, 0.225])  # Normalization for pre-trained models\n",
    "    ]),\n",
    "    'val': transforms.Compose([\n",
    "        transforms.Resize((224, 224)),\n",
    "        transforms.ToTensor(),\n",
    "        transforms.Normalize([0.485, 0.456, 0.406], [0.229, 0.224, 0.225])\n",
    "    ]),\n",
    "    'test': transforms.Compose([\n",
    "        transforms.Resize((224, 224)),\n",
    "        transforms.ToTensor(),\n",
    "        transforms.Normalize([0.485, 0.456, 0.406], [0.229, 0.224, 0.225])\n",
    "    ]),\n",
    "}"
   ]
  },
  {
   "cell_type": "code",
   "execution_count": 3,
   "id": "52f0fa6d-c45e-4250-9cfa-41a8ea10bc9b",
   "metadata": {},
   "outputs": [],
   "source": [
    "# Step 2: Load the data\n",
    "data_dir = './data/chest_xray'\n",
    "image_datasets = {\n",
    "    'train': datasets.ImageFolder(os.path.join(data_dir, 'train'), data_transforms['train']),\n",
    "    'val': datasets.ImageFolder(os.path.join(data_dir, 'val'), data_transforms['val']),\n",
    "    'test': datasets.ImageFolder(os.path.join(data_dir, 'test'), data_transforms['test'])\n",
    "}\n",
    "\n",
    "dataloaders = {\n",
    "    'train': DataLoader(image_datasets['train'], batch_size=32, shuffle=True),\n",
    "    'val': DataLoader(image_datasets['val'], batch_size=32, shuffle=False),\n",
    "    'test': DataLoader(image_datasets['test'], batch_size=32, shuffle=False)\n",
    "}\n",
    "\n",
    "dataset_sizes = {x: len(image_datasets[x]) for x in ['train', 'val', 'test']}\n",
    "class_names = image_datasets['train'].classes"
   ]
  },
  {
   "cell_type": "code",
   "execution_count": 4,
   "id": "05f9e811-5d0e-47f3-928e-5c1fec39de9b",
   "metadata": {},
   "outputs": [
    {
     "name": "stderr",
     "output_type": "stream",
     "text": [
      "/home/swartwba/.conda/envs/csse416/lib/python3.12/site-packages/torchvision/models/_utils.py:208: UserWarning: The parameter 'pretrained' is deprecated since 0.13 and may be removed in the future, please use 'weights' instead.\n",
      "  warnings.warn(\n",
      "/home/swartwba/.conda/envs/csse416/lib/python3.12/site-packages/torchvision/models/_utils.py:223: UserWarning: Arguments other than a weight enum or `None` for 'weights' are deprecated since 0.13 and may be removed in the future. The current behavior is equivalent to passing `weights=ResNet50_Weights.IMAGENET1K_V1`. You can also use `weights=ResNet50_Weights.DEFAULT` to get the most up-to-date weights.\n",
      "  warnings.warn(msg)\n"
     ]
    }
   ],
   "source": [
    "# Step 3: Set up the model (ResNet50)\n",
    "#device = torch.device(\"cpu\")  # Use CPU only\n",
    "device = torch.device(\"cuda\" if torch.cuda.is_available() else \"cpu\")  # Use GPU if available\n",
    "\n",
    "model = models.resnet50(pretrained=True)\n",
    "num_ftrs = model.fc.in_features\n",
    "model.fc = nn.Linear(num_ftrs, 2)  # Modify the final layer for binary classification (pneumonia vs normal)\n",
    "model = model.to(device)\n",
    "\n",
    "# Step 4: Define the loss function and optimizer\n",
    "criterion = nn.CrossEntropyLoss()  # For binary classification\n",
    "optimizer = optim.SGD(model.parameters(), lr=0.001, momentum=0.9)"
   ]
  },
  {
   "cell_type": "code",
   "execution_count": 5,
   "id": "d13cc851-4e3f-47cd-bb9f-abdf88cb1aa6",
   "metadata": {},
   "outputs": [],
   "source": [
    "# Step 5: Training loop\n",
    "def train_model(model, criterion, optimizer, num_epochs=10):\n",
    "    for epoch in range(num_epochs):\n",
    "        print(f'Epoch {epoch+1}/{num_epochs}')\n",
    "        print('-' * 10)\n",
    "\n",
    "        for phase in ['train', 'val']:\n",
    "            if phase == 'train':\n",
    "                model.train()  # Set model to training mode\n",
    "            else:\n",
    "                model.eval()  # Set model to evaluation mode\n",
    "\n",
    "            running_loss = 0.0\n",
    "            running_corrects = 0\n",
    "\n",
    "            # Iterate over data\n",
    "            for inputs, labels in dataloaders[phase]:\n",
    "                inputs = inputs.to(device)\n",
    "                labels = labels.to(device)\n",
    "\n",
    "                # Zero the parameter gradients\n",
    "                optimizer.zero_grad()\n",
    "\n",
    "                # Forward pass\n",
    "                with torch.set_grad_enabled(phase == 'train'):\n",
    "                    outputs = model(inputs)\n",
    "                    _, preds = torch.max(outputs, 1)\n",
    "                    loss = criterion(outputs, labels)\n",
    "\n",
    "                    # Backward pass + optimize in training mode\n",
    "                    if phase == 'train':\n",
    "                        loss.backward()\n",
    "                        optimizer.step()\n",
    "\n",
    "                # Statistics\n",
    "                running_loss += loss.item() * inputs.size(0)\n",
    "                running_corrects += torch.sum(preds == labels.data)\n",
    "\n",
    "            epoch_loss = running_loss / dataset_sizes[phase]\n",
    "            epoch_acc = running_corrects.double() / dataset_sizes[phase]\n",
    "\n",
    "            print(f'{phase} Loss: {epoch_loss:.4f} Acc: {epoch_acc:.4f}')\n",
    "\n",
    "    print('Training complete')\n",
    "\n",
    "# Step 6: Model testing and confusion matrix plotting\n",
    "def test_model(model):\n",
    "    model.eval()  # Set model to evaluation mode\n",
    "    running_corrects = 0\n",
    "    all_preds = []\n",
    "    all_labels = []\n",
    "\n",
    "    with torch.no_grad():  # No need to compute gradients for testing\n",
    "        for inputs, labels in dataloaders['test']:\n",
    "            inputs = inputs.to(device)\n",
    "            labels = labels.to(device)\n",
    "\n",
    "            outputs = model(inputs)\n",
    "            _, preds = torch.max(outputs, 1)\n",
    "\n",
    "            running_corrects += torch.sum(preds == labels.data)\n",
    "\n",
    "            all_preds.extend(preds.cpu().numpy())  # Store predictions\n",
    "            all_labels.extend(labels.cpu().numpy())  # Store true labels\n",
    "\n",
    "    test_acc = running_corrects.double() / dataset_sizes['test']\n",
    "    print(f'Test Accuracy: {test_acc:.4f}')\n",
    "\n",
    "    # Confusion matrix\n",
    "    cm = confusion_matrix(all_labels, all_preds)\n",
    "    disp = ConfusionMatrixDisplay(confusion_matrix=cm, display_labels=class_names)\n",
    "    disp.plot(cmap=plt.cm.Blues)\n",
    "    plt.title(\"Pneumonia X-Ray Confusion Matrix\")\n",
    "    plt.show()\n",
    "\n",
    "# Step 7: Save the model\n",
    "def save_model(model, path='resnet50_pneumonia.pth'):\n",
    "    torch.save(model.state_dict(), path)\n",
    "    print(f\"Model saved as {path}\")"
   ]
  },
  {
   "cell_type": "code",
   "execution_count": 6,
   "id": "2a0d541b-2156-4d34-b1d3-935ef0777c82",
   "metadata": {},
   "outputs": [
    {
     "name": "stdout",
     "output_type": "stream",
     "text": [
      "Epoch 1/10\n",
      "----------\n",
      "train Loss: 0.1618 Acc: 0.9346\n",
      "val Loss: 0.1798 Acc: 0.9375\n",
      "Epoch 2/10\n",
      "----------\n",
      "train Loss: 0.0557 Acc: 0.9801\n",
      "val Loss: 0.2840 Acc: 0.8125\n",
      "Epoch 3/10\n",
      "----------\n",
      "train Loss: 0.0369 Acc: 0.9866\n",
      "val Loss: 0.1696 Acc: 0.8750\n",
      "Epoch 4/10\n",
      "----------\n",
      "train Loss: 0.0206 Acc: 0.9942\n",
      "val Loss: 0.0623 Acc: 1.0000\n",
      "Epoch 5/10\n",
      "----------\n",
      "train Loss: 0.0163 Acc: 0.9944\n",
      "val Loss: 0.2824 Acc: 0.8125\n",
      "Epoch 6/10\n",
      "----------\n",
      "train Loss: 0.0107 Acc: 0.9965\n",
      "val Loss: 0.0474 Acc: 1.0000\n",
      "Epoch 7/10\n",
      "----------\n",
      "train Loss: 0.0061 Acc: 0.9985\n",
      "val Loss: 0.0458 Acc: 1.0000\n",
      "Epoch 8/10\n",
      "----------\n",
      "train Loss: 0.0038 Acc: 0.9992\n",
      "val Loss: 0.0071 Acc: 1.0000\n",
      "Epoch 9/10\n",
      "----------\n",
      "train Loss: 0.0055 Acc: 0.9987\n",
      "val Loss: 0.0136 Acc: 1.0000\n",
      "Epoch 10/10\n",
      "----------\n",
      "train Loss: 0.0037 Acc: 0.9994\n",
      "val Loss: 0.0086 Acc: 1.0000\n",
      "Training complete\n"
     ]
    }
   ],
   "source": [
    "# Step 8: Start training the model\n",
    "train_model(model, criterion, optimizer)"
   ]
  },
  {
   "cell_type": "code",
   "execution_count": 9,
   "id": "a1ee275e-48b4-49d6-afbd-b22017f9d1a9",
   "metadata": {},
   "outputs": [
    {
     "name": "stdout",
     "output_type": "stream",
     "text": [
      "Test Accuracy: 0.7965\n"
     ]
    },
    {
     "data": {
      "image/png": "[encoded data removed]",
      "text/plain": [
       "<Figure size 640x480 with 2 Axes>"
      ]
     },
     "metadata": {},
     "output_type": "display_data"
    }
   ],
   "source": [
    "# Step 9: Test the model\n",
    "test_model(model)"
   ]
  },
  {
   "cell_type": "code",
   "execution_count": 10,
   "id": "e4dfae12-0785-4367-a75d-18b639bfd6f5",
   "metadata": {},
   "outputs": [
    {
     "name": "stdout",
     "output_type": "stream",
     "text": [
      "Model saved as resnet50_pneumonia.pth\n"
     ]
    }
   ],
   "source": [
    "save_model(model)"
   ]
  },
  {
   "cell_type": "code",
   "execution_count": null,
   "id": "b2653667-04e0-4f46-a2b8-a7c790416eed",
   "metadata": {},
   "outputs": [],
   "source": []
  },
  {
   "cell_type": "code",
   "execution_count": null,
   "id": "7ebe250e-4be7-46c5-ab1a-b64ff7612a93",
   "metadata": {},
   "outputs": [],
   "source": []
  }
 ],
 "metadata": {
  "kernelspec": {
   "display_name": "csse416",
   "language": "python",
   "name": "csse416"
  },
  "language_info": {
   "codemirror_mode": {
    "name": "ipython",
    "version": 3
   },
   "file_extension": ".py",
   "mimetype": "text/x-python",
   "name": "python",
   "nbconvert_exporter": "python",
   "pygments_lexer": "ipython3",
   "version": "3.12.3"
  }
 },
 "nbformat": 4,
 "nbformat_minor": 5
}
