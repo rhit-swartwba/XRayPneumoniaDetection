{
 "cells": [
  {
   "cell_type": "markdown",
   "id": "be37f433-d118-40a1-ac4c-70654cf8a6ff",
   "metadata": {},
   "source": [
    "# X-Ray CNN Neural Network"
   ]
  },
  {
   "cell_type": "markdown",
   "id": "df4b71ba-ca8f-41be-bdd8-29599c8e54ea",
   "metadata": {},
   "source": [
    "### Authors: Blaise Swartwood, Brian Beasley, Tommaso Calviello"
   ]
  },
  {
   "cell_type": "code",
   "execution_count": 1,
   "id": "55d15636-526c-4c69-873d-01c237b6c562",
   "metadata": {},
   "outputs": [],
   "source": [
    "import torch\n",
    "import torch.nn as nn\n",
    "import torch.optim as optim\n",
    "from torchvision import datasets, models, transforms\n",
    "from torch.utils.data import DataLoader\n",
    "import os\n",
    "from sklearn.metrics import confusion_matrix, ConfusionMatrixDisplay\n",
    "import matplotlib.pyplot as plt"
   ]
  },
  {
   "cell_type": "code",
   "execution_count": 2,
   "id": "24da678f-9b10-427a-8381-1aa2b76b49b4",
   "metadata": {},
   "outputs": [],
   "source": [
    "data_transforms = {\n",
    "    'train': transforms.Compose([\n",
    "        transforms.Resize((224, 224)),  # ResNet expects 224x224 images\n",
    "        transforms.RandomHorizontalFlip(),\n",
    "        transforms.ToTensor(),\n",
    "        transforms.Normalize([0.485, 0.456, 0.406], [0.229, 0.224, 0.225])  # Normalization for pre-trained models\n",
    "    ]),\n",
    "    'val': transforms.Compose([\n",
    "        transforms.Resize((224, 224)),\n",
    "        transforms.ToTensor(),\n",
    "        transforms.Normalize([0.485, 0.456, 0.406], [0.229, 0.224, 0.225])\n",
    "    ]),\n",
    "    'test': transforms.Compose([\n",
    "        transforms.Resize((224, 224)),\n",
    "        transforms.ToTensor(),\n",
    "        transforms.Normalize([0.485, 0.456, 0.406], [0.229, 0.224, 0.225])\n",
    "    ]),\n",
    "}"
   ]
  },
  {
   "cell_type": "code",
   "execution_count": 3,
   "id": "7949dd46-6bcf-4a2e-aa77-7b34497031d1",
   "metadata": {},
   "outputs": [],
   "source": [
    "data_dir = '../data/chest_xray'\n",
    "image_datasets = {\n",
    "    'train': datasets.ImageFolder(os.path.join(data_dir, 'train'), data_transforms['train']),\n",
    "    'val': datasets.ImageFolder(os.path.join(data_dir, 'val'), data_transforms['val']),\n",
    "    'test': datasets.ImageFolder(os.path.join(data_dir, 'test'), data_transforms['test'])\n",
    "}\n",
    "\n",
    "dataloaders = {\n",
    "    'train': DataLoader(image_datasets['train'], batch_size=32, shuffle=True),\n",
    "    'val': DataLoader(image_datasets['val'], batch_size=32, shuffle=False),\n",
    "    'test': DataLoader(image_datasets['test'], batch_size=32, shuffle=False)\n",
    "}\n",
    "\n",
    "dataset_sizes = {x: len(image_datasets[x]) for x in ['train', 'val', 'test']}\n",
    "class_names = image_datasets['train'].classes"
   ]
  },
  {
   "cell_type": "code",
   "execution_count": 4,
   "id": "05f9e811-5d0e-47f3-928e-5c1fec39de9b",
   "metadata": {},
   "outputs": [
    {
     "name": "stdout",
     "output_type": "stream",
     "text": [
      "cpu\n"
     ]
    },
    {
     "name": "stderr",
     "output_type": "stream",
     "text": [
      "/home/swartwba/.conda/envs/csse416/lib/python3.12/site-packages/torchvision/models/_utils.py:208: UserWarning: The parameter 'pretrained' is deprecated since 0.13 and may be removed in the future, please use 'weights' instead.\n",
      "  warnings.warn(\n",
      "/home/swartwba/.conda/envs/csse416/lib/python3.12/site-packages/torchvision/models/_utils.py:223: UserWarning: Arguments other than a weight enum or `None` for 'weights' are deprecated since 0.13 and may be removed in the future. The current behavior is equivalent to passing `weights=ResNet50_Weights.IMAGENET1K_V1`. You can also use `weights=ResNet50_Weights.DEFAULT` to get the most up-to-date weights.\n",
      "  warnings.warn(msg)\n",
      "/home/swartwba/.conda/envs/csse416/lib/python3.12/site-packages/torch/optim/lr_scheduler.py:60: UserWarning: The verbose parameter is deprecated. Please use get_last_lr() to access the learning rate.\n",
      "  warnings.warn(\n"
     ]
    }
   ],
   "source": [
    "device = torch.device(\"cuda\" if torch.cuda.is_available() else \"cpu\")\n",
    "print(device)\n",
    "\n",
    "model = models.resnet50(pretrained=True)\n",
    "num_ftrs = model.fc.in_features\n",
    "model.fc = nn.Sequential(\n",
    "    nn.Dropout(p=0.5),  # Dropout layer for regularization\n",
    "    nn.Linear(num_ftrs, 2)  # Binary classification layer\n",
    ")\n",
    "model = model.to(device)\n",
    "\n",
    "# Criterion and optimizer\n",
    "criterion = nn.CrossEntropyLoss()\n",
    "optimizer = optim.SGD(model.parameters(), lr=0.001, momentum=0.9, weight_decay=1e-4)  # Weight decay added\n",
    "scheduler = optim.lr_scheduler.ReduceLROnPlateau(optimizer, mode='min', factor=0.1, patience=3, verbose=True) #Reducing the learning rate over time"
   ]
  },
  {
   "cell_type": "code",
   "execution_count": 5,
   "id": "d13cc851-4e3f-47cd-bb9f-abdf88cb1aa6",
   "metadata": {},
   "outputs": [],
   "source": [
    "# Training function with learning rate scheduling\n",
    "def train_model(model, criterion, optimizer, scheduler, num_epochs=2):\n",
    "    for epoch in range(num_epochs):\n",
    "        print(f'Epoch {epoch+1}/{num_epochs}')\n",
    "        print('-' * 10)\n",
    "\n",
    "        for phase in ['train', 'val']:\n",
    "            if phase == 'train':\n",
    "                model.train()  # Training mode\n",
    "            else:\n",
    "                model.eval()  # Evaluation mode\n",
    "\n",
    "            running_loss = 0.0\n",
    "            running_corrects = 0\n",
    "\n",
    "            # Iterate over data\n",
    "            for inputs, labels in dataloaders[phase]:\n",
    "                inputs = inputs.to(device)\n",
    "                labels = labels.to(device)\n",
    "\n",
    "                # Zero the parameter gradients\n",
    "                optimizer.zero_grad()\n",
    "\n",
    "                # Forward pass\n",
    "                with torch.set_grad_enabled(phase == 'train'):\n",
    "                    outputs = model(inputs)\n",
    "                    _, preds = torch.max(outputs, 1)\n",
    "                    loss = criterion(outputs, labels)\n",
    "\n",
    "                    # Backward pass and optimize in training mode\n",
    "                    if phase == 'train':\n",
    "                        loss.backward()\n",
    "                        optimizer.step()\n",
    "\n",
    "                # Statistics\n",
    "                running_loss += loss.item() * inputs.size(0)\n",
    "                running_corrects += torch.sum(preds == labels.data)\n",
    "\n",
    "            epoch_loss = running_loss / dataset_sizes[phase]\n",
    "            epoch_acc = running_corrects.double() / dataset_sizes[phase]\n",
    "\n",
    "            print(f'{phase} Loss: {epoch_loss:.4f} Acc: {epoch_acc:.4f}')\n",
    "\n",
    "            # Adjust learning rate based on validation loss\n",
    "            if phase == 'val':\n",
    "                scheduler.step(epoch_loss)\n",
    "\n",
    "    print('Training complete')\n",
    "\n",
    "# Testing function\n",
    "def test_model(model):\n",
    "    model.eval()\n",
    "    running_corrects = 0\n",
    "    all_preds = []\n",
    "    all_labels = []\n",
    "\n",
    "    with torch.no_grad():\n",
    "        for inputs, labels in dataloaders['test']:\n",
    "            inputs = inputs.to(device)\n",
    "            labels = labels.to(device)\n",
    "\n",
    "            outputs = model(inputs)\n",
    "            _, preds = torch.max(outputs, 1)\n",
    "\n",
    "            running_corrects += torch.sum(preds == labels.data)\n",
    "            all_preds.extend(preds.cpu().numpy())\n",
    "            all_labels.extend(labels.cpu().numpy())\n",
    "\n",
    "    test_acc = running_corrects.double() / dataset_sizes['test']\n",
    "    print(f'Test Accuracy: {test_acc:.4f}')\n",
    "\n",
    "    # Confusion matrix\n",
    "    cm = confusion_matrix(all_labels, all_preds)\n",
    "    disp = ConfusionMatrixDisplay(confusion_matrix=cm, display_labels=class_names)\n",
    "    disp.plot(cmap=plt.cm.Blues)\n",
    "    plt.title(\"Pneumonia X-Ray Confusion Matrix\")\n",
    "    plt.show()\n",
    "\n",
    "# Save model function\n",
    "def save_model(model, path='resnet50_pneumonia.pth'):\n",
    "    torch.save(model.state_dict(), path)\n",
    "    print(f\"Model saved as {path}\")"
   ]
  },
  {
   "cell_type": "code",
   "execution_count": 6,
   "id": "2a0d541b-2156-4d34-b1d3-935ef0777c82",
   "metadata": {},
   "outputs": [
    {
     "name": "stdout",
     "output_type": "stream",
     "text": [
      "Epoch 1/1\n",
      "----------\n",
      "train Loss: 0.1575 Acc: 0.9390\n",
      "val Loss: 0.2913 Acc: 0.8125\n",
      "Training complete\n"
     ]
    }
   ],
   "source": [
    "train_model(model, criterion, optimizer, scheduler)"
   ]
  },
  {
   "cell_type": "code",
   "execution_count": 7,
   "id": "a1ee275e-48b4-49d6-afbd-b22017f9d1a9",
   "metadata": {},
   "outputs": [
    {
     "name": "stdout",
     "output_type": "stream",
     "text": [
      "Test Accuracy: 0.8365\n"
     ]
    },
    {
     "data": {
      "image/png": "[encoded data removed]",
      "text/plain": [
       "<Figure size 640x480 with 2 Axes>"
      ]
     },
     "metadata": {},
     "output_type": "display_data"
    }
   ],
   "source": [
    "test_model(model)"
   ]
  },
  {
   "cell_type": "code",
   "execution_count": 8,
   "id": "e4dfae12-0785-4367-a75d-18b639bfd6f5",
   "metadata": {},
   "outputs": [
    {
     "name": "stdout",
     "output_type": "stream",
     "text": [
      "Model saved as resnet50_pneumonia.pth\n"
     ]
    }
   ],
   "source": [
    "save_model(model)"
   ]
  },
  {
   "cell_type": "markdown",
   "id": "7da09d37-fdb4-4a9f-979c-7fdd9a074dc8",
   "metadata": {},
   "source": [
    "Fortunately, our ResNet50 network is outperforming the simple bias regressor. However, we clearly have an overfitting issue which we will address in the coming weeks."
   ]
  },
  {
   "cell_type": "code",
   "execution_count": null,
   "id": "9511356b-bf9d-4777-a787-18d8b0592698",
   "metadata": {},
   "outputs": [],
   "source": []
  }
 ],
 "metadata": {
  "kernelspec": {
   "display_name": "csse416",
   "language": "python",
   "name": "csse416"
  },
  "language_info": {
   "codemirror_mode": {
    "name": "ipython",
    "version": 3
   },
   "file_extension": ".py",
   "mimetype": "text/x-python",
   "name": "python",
   "nbconvert_exporter": "python",
   "pygments_lexer": "ipython3",
   "version": "3.12.3"
  }
 },
 "nbformat": 4,
 "nbformat_minor": 5
}
