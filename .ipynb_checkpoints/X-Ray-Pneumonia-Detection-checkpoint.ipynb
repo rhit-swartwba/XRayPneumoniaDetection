{
 "cells": [
  {
   "cell_type": "markdown",
   "id": "26531a8c-8a66-437e-9058-044bb4c840a4",
   "metadata": {},
   "source": [
    "# X-Ray Pneumonia Detection\n",
    "### Authors: Blaiseeeeeeeeeee Swart\"wood\" teeheehee, Brian Beasley, Tommaso Calviello"
   ]
  },
  {
   "cell_type": "code",
   "execution_count": 1,
   "id": "be18b7fa-0214-4865-9c7d-0e5b94dff534",
   "metadata": {},
   "outputs": [],
   "source": [
    "import numpy as np\n",
    "import pandas as pd"
   ]
  },
  {
   "cell_type": "code",
   "execution_count": null,
   "id": "744ed1f4-0a39-4d5e-9d68-2a09f10fe1a1",
   "metadata": {},
   "outputs": [],
   "source": []
  },
  {
   "cell_type": "code",
   "execution_count": null,
   "id": "d0f2e4f7-d1e3-4c4f-a767-0cb3e285fbd4",
   "metadata": {},
   "outputs": [],
   "source": []
  }
 ],
 "metadata": {
  "kernelspec": {
   "display_name": "Python 3 (ipykernel)",
   "language": "python",
   "name": "python3"
  },
  "language_info": {
   "codemirror_mode": {
    "name": "ipython",
    "version": 3
   },
   "file_extension": ".py",
   "mimetype": "text/x-python",
   "name": "python",
   "nbconvert_exporter": "python",
   "pygments_lexer": "ipython3",
   "version": "3.12.4"
  }
 },
 "nbformat": 4,
 "nbformat_minor": 5
}
