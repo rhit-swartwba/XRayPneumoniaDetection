{
 "cells": [
  {
   "cell_type": "markdown",
   "id": "be37f433-d118-40a1-ac4c-70654cf8a6ff",
   "metadata": {},
   "source": [
    "# X-Ray CNN Neural Network"
   ]
  },
  {
   "cell_type": "markdown",
   "id": "df4b71ba-ca8f-41be-bdd8-29599c8e54ea",
   "metadata": {},
   "source": [
    "### Authors: Blaise Swartwood, Brian Beasley, Tommaso Calviello"
   ]
  },
  {
   "cell_type": "code",
   "execution_count": 1,
   "id": "55d15636-526c-4c69-873d-01c237b6c562",
   "metadata": {},
   "outputs": [],
   "source": [
    "import torch\n",
    "import torch.nn as nn\n",
    "import torch.optim as optim\n",
    "from torchvision import datasets, models, transforms\n",
    "from torch.utils.data import DataLoader\n",
    "import os\n",
    "from sklearn.metrics import confusion_matrix, ConfusionMatrixDisplay\n",
    "import matplotlib.pyplot as plt"
   ]
  },
  {
   "cell_type": "markdown",
   "id": "2cce29d4-e8b4-4042-b192-8465e0f5740d",
   "metadata": {},
   "source": [
    "## Simple Bias Regressor "
   ]
  },
  {
   "cell_type": "code",
   "execution_count": 2,
   "id": "24da678f-9b10-427a-8381-1aa2b76b49b4",
   "metadata": {},
   "outputs": [],
   "source": [
    "data_transforms = {\n",
    "    'train': transforms.Compose([\n",
    "        transforms.Resize((224, 224)),  # ResNet expects 224x224 images\n",
    "        transforms.RandomHorizontalFlip(),\n",
    "        transforms.ToTensor(),\n",
    "        transforms.Normalize([0.485, 0.456, 0.406], [0.229, 0.224, 0.225])  # Normalization for pre-trained models\n",
    "    ]),\n",
    "    'val': transforms.Compose([\n",
    "        transforms.Resize((224, 224)),\n",
    "        transforms.ToTensor(),\n",
    "        transforms.Normalize([0.485, 0.456, 0.406], [0.229, 0.224, 0.225])\n",
    "    ]),\n",
    "    'test': transforms.Compose([\n",
    "        transforms.Resize((224, 224)),\n",
    "        transforms.ToTensor(),\n",
    "        transforms.Normalize([0.485, 0.456, 0.406], [0.229, 0.224, 0.225])\n",
    "    ]),\n",
    "}"
   ]
  },
  {
   "cell_type": "code",
   "execution_count": 3,
   "id": "7949dd46-6bcf-4a2e-aa77-7b34497031d1",
   "metadata": {},
   "outputs": [],
   "source": [
    "data_dir = '../data/chest_xray'\n",
    "image_datasets = {\n",
    "    'train': datasets.ImageFolder(os.path.join(data_dir, 'train'), data_transforms['train']),\n",
    "    'val': datasets.ImageFolder(os.path.join(data_dir, 'val'), data_transforms['val']),\n",
    "    'test': datasets.ImageFolder(os.path.join(data_dir, 'test'), data_transforms['test'])\n",
    "}\n",
    "\n",
    "dataloaders = {\n",
    "    'train': DataLoader(image_datasets['train'], batch_size=32, shuffle=True),\n",
    "    'val': DataLoader(image_datasets['val'], batch_size=32, shuffle=False),\n",
    "    'test': DataLoader(image_datasets['test'], batch_size=32, shuffle=False)\n",
    "}\n",
    "\n",
    "dataset_sizes = {x: len(image_datasets[x]) for x in ['train', 'val', 'test']}\n",
    "class_names = image_datasets['train'].classes"
   ]
  },
  {
   "cell_type": "code",
   "execution_count": 4,
   "id": "d80f4b44-e7f9-4f0e-81b4-5b29c2d536e5",
   "metadata": {},
   "outputs": [
    {
     "name": "stdout",
     "output_type": "stream",
     "text": [
      "\n",
      "Class counts in train:\n",
      "NORMAL: 1341\n",
      "PNEUMONIA: 3875\n",
      "\n",
      "Class counts in val:\n",
      "NORMAL: 8\n",
      "PNEUMONIA: 8\n",
      "\n",
      "Class counts in test:\n",
      "NORMAL: 234\n",
      "PNEUMONIA: 390\n"
     ]
    }
   ],
   "source": [
    "# Dictionary to store class-wise counts for each phase\n",
    "class_counts = {}\n",
    "\n",
    "# Loop through each dataset (train, val, test)\n",
    "for phase in ['train', 'val', 'test']:\n",
    "    class_counts[phase] = {class_name: 0 for class_name in class_names}  # Initialize counts for each class\n",
    "    \n",
    "    # Get the dataset for the current phase\n",
    "    dataset = image_datasets[phase]\n",
    "    \n",
    "    # Iterate through the dataset and count each class\n",
    "    for _, label in dataset.samples:\n",
    "        class_name = class_names[label]\n",
    "        class_counts[phase][class_name] += 1\n",
    "\n",
    "# Print out the counts for each dataset\n",
    "for phase in ['train', 'val', 'test']:\n",
    "    print(f\"\\nClass counts in {phase}:\")\n",
    "    for class_name, count in class_counts[phase].items():\n",
    "        print(f\"{class_name}: {count}\")\n"
   ]
  },
  {
   "cell_type": "markdown",
   "id": "7018d7a5-1c8a-4f0b-a7dc-ddb3de5c167b",
   "metadata": {},
   "source": [
    "For the training data, a simple bias regressor simply predicting would achieve an accuracy of 0.7429 (pneuomina images divided by the total number of training images).\n",
    "\n",
    "For the test data, a simple bias regressor simply predicting would achieve an accuracy of 0.625 (number of pneumonia images divided by the total number of training images).\n"
   ]
  },
  {
   "cell_type": "markdown",
   "id": "417c9b72-0585-4993-8bb3-2c50714e0f72",
   "metadata": {},
   "source": [
    "## ResNet50 Model"
   ]
  },
  {
   "cell_type": "code",
   "execution_count": 5,
   "id": "05f9e811-5d0e-47f3-928e-5c1fec39de9b",
   "metadata": {},
   "outputs": [
    {
     "name": "stdout",
     "output_type": "stream",
     "text": [
      "cpu\n"
     ]
    },
    {
     "name": "stderr",
     "output_type": "stream",
     "text": [
      "/home/swartwba/.conda/envs/csse416/lib/python3.12/site-packages/torchvision/models/_utils.py:208: UserWarning: The parameter 'pretrained' is deprecated since 0.13 and may be removed in the future, please use 'weights' instead.\n",
      "  warnings.warn(\n",
      "/home/swartwba/.conda/envs/csse416/lib/python3.12/site-packages/torchvision/models/_utils.py:223: UserWarning: Arguments other than a weight enum or `None` for 'weights' are deprecated since 0.13 and may be removed in the future. The current behavior is equivalent to passing `weights=ResNet50_Weights.IMAGENET1K_V1`. You can also use `weights=ResNet50_Weights.DEFAULT` to get the most up-to-date weights.\n",
      "  warnings.warn(msg)\n"
     ]
    }
   ],
   "source": [
    "#device = torch.device(\"cpu\")  # Use CPU only\n",
    "device = torch.device(\"cuda\" if torch.cuda.is_available() else \"cpu\")  # Use GPU if available\n",
    "print(device)\n",
    "\n",
    "model = models.resnet50(pretrained=True)\n",
    "num_ftrs = model.fc.in_features\n",
    "model.fc = nn.Linear(num_ftrs, 2)  # Modify the final layer for binary classification (pneumonia vs normal)\n",
    "model = model.to(device)\n",
    "\n",
    "criterion = nn.CrossEntropyLoss()  # For binary classification\n",
    "optimizer = optim.SGD(model.parameters(), lr=0.001, momentum=0.9)"
   ]
  },
  {
   "cell_type": "code",
   "execution_count": 6,
   "id": "d13cc851-4e3f-47cd-bb9f-abdf88cb1aa6",
   "metadata": {},
   "outputs": [],
   "source": [
    "def train_model(model, criterion, optimizer, num_epochs=10):\n",
    "    for epoch in range(num_epochs):\n",
    "        print(f'Epoch {epoch+1}/{num_epochs}')\n",
    "        print('-' * 10)\n",
    "\n",
    "        for phase in ['train', 'val']:\n",
    "            if phase == 'train':\n",
    "                model.train()  # Set model to training mode\n",
    "            else:\n",
    "                model.eval()  # Set model to evaluation mode\n",
    "\n",
    "            running_loss = 0.0\n",
    "            running_corrects = 0\n",
    "\n",
    "            # Iterate over data\n",
    "            for inputs, labels in dataloaders[phase]:\n",
    "                inputs = inputs.to(device)\n",
    "                labels = labels.to(device)\n",
    "\n",
    "                # Zero the parameter gradients\n",
    "                optimizer.zero_grad()\n",
    "\n",
    "                # Forward pass\n",
    "                with torch.set_grad_enabled(phase == 'train'):\n",
    "                    outputs = model(inputs)\n",
    "                    _, preds = torch.max(outputs, 1)\n",
    "                    loss = criterion(outputs, labels)\n",
    "\n",
    "                    # Backward pass + optimize in training mode\n",
    "                    if phase == 'train':\n",
    "                        loss.backward()\n",
    "                        optimizer.step()\n",
    "\n",
    "                # Statistics\n",
    "                running_loss += loss.item() * inputs.size(0)\n",
    "                running_corrects += torch.sum(preds == labels.data)\n",
    "\n",
    "            epoch_loss = running_loss / dataset_sizes[phase]\n",
    "            epoch_acc = running_corrects.double() / dataset_sizes[phase]\n",
    "\n",
    "            print(f'{phase} Loss: {epoch_loss:.4f} Acc: {epoch_acc:.4f}')\n",
    "\n",
    "    print('Training complete')\n",
    "\n",
    "def test_model(model):\n",
    "    model.eval()  # Set model to evaluation mode\n",
    "    running_corrects = 0\n",
    "    all_preds = []\n",
    "    all_labels = []\n",
    "\n",
    "    with torch.no_grad():  # No need to compute gradients for testing\n",
    "        for inputs, labels in dataloaders['test']:\n",
    "            inputs = inputs.to(device)\n",
    "            labels = labels.to(device)\n",
    "\n",
    "            outputs = model(inputs)\n",
    "            _, preds = torch.max(outputs, 1)\n",
    "\n",
    "            running_corrects += torch.sum(preds == labels.data)\n",
    "\n",
    "            all_preds.extend(preds.cpu().numpy())  # Store predictions\n",
    "            all_labels.extend(labels.cpu().numpy())  # Store true labels\n",
    "\n",
    "    test_acc = running_corrects.double() / dataset_sizes['test']\n",
    "    print(f'Test Accuracy: {test_acc:.4f}')\n",
    "\n",
    "    # Confusion matrix\n",
    "    cm = confusion_matrix(all_labels, all_preds)\n",
    "    disp = ConfusionMatrixDisplay(confusion_matrix=cm, display_labels=class_names)\n",
    "    disp.plot(cmap=plt.cm.Blues)\n",
    "    plt.title(\"Pneumonia X-Ray Confusion Matrix\")\n",
    "    plt.show()\n",
    "\n",
    "def save_model(model, path='resnet50_pneumonia.pth'):\n",
    "    torch.save(model.state_dict(), path)\n",
    "    print(f\"Model saved as {path}\")"
   ]
  },
  {
   "cell_type": "code",
   "execution_count": 7,
   "id": "2a0d541b-2156-4d34-b1d3-935ef0777c82",
   "metadata": {},
   "outputs": [
    {
     "name": "stdout",
     "output_type": "stream",
     "text": [
      "Epoch 1/10\n",
      "----------\n",
      "train Loss: 0.1534 Acc: 0.9388\n",
      "val Loss: 0.4768 Acc: 0.7500\n",
      "Epoch 2/10\n",
      "----------\n",
      "train Loss: 0.0576 Acc: 0.9778\n",
      "val Loss: 0.3041 Acc: 0.9375\n",
      "Epoch 3/10\n",
      "----------\n",
      "train Loss: 0.0380 Acc: 0.9866\n",
      "val Loss: 0.0767 Acc: 1.0000\n",
      "Epoch 4/10\n",
      "----------\n",
      "train Loss: 0.0247 Acc: 0.9937\n",
      "val Loss: 0.0822 Acc: 1.0000\n",
      "Epoch 5/10\n",
      "----------\n",
      "train Loss: 0.0139 Acc: 0.9962\n",
      "val Loss: 0.0615 Acc: 1.0000\n",
      "Epoch 6/10\n",
      "----------\n",
      "train Loss: 0.0090 Acc: 0.9973\n",
      "val Loss: 0.1653 Acc: 0.8750\n",
      "Epoch 7/10\n",
      "----------\n",
      "train Loss: 0.0049 Acc: 0.9990\n",
      "val Loss: 0.0717 Acc: 0.9375\n",
      "Epoch 8/10\n",
      "----------\n",
      "train Loss: 0.0068 Acc: 0.9987\n",
      "val Loss: 0.1787 Acc: 0.8750\n",
      "Epoch 9/10\n",
      "----------\n",
      "train Loss: 0.0055 Acc: 0.9983\n",
      "val Loss: 0.0635 Acc: 1.0000\n",
      "Epoch 10/10\n",
      "----------\n",
      "train Loss: 0.0055 Acc: 0.9981\n",
      "val Loss: 0.0176 Acc: 1.0000\n",
      "Training complete\n"
     ]
    }
   ],
   "source": [
    "train_model(model, criterion, optimizer)"
   ]
  },
  {
   "cell_type": "code",
   "execution_count": 8,
   "id": "a1ee275e-48b4-49d6-afbd-b22017f9d1a9",
   "metadata": {},
   "outputs": [
    {
     "name": "stdout",
     "output_type": "stream",
     "text": [
      "Test Accuracy: 0.8542\n"
     ]
    },
    {
     "data": {
      "image/png": "[encoded data removed]",
      "text/plain": [
       "<Figure size 640x480 with 2 Axes>"
      ]
     },
     "metadata": {},
     "output_type": "display_data"
    }
   ],
   "source": [
    "test_model(model)"
   ]
  },
  {
   "cell_type": "code",
   "execution_count": 9,
   "id": "e4dfae12-0785-4367-a75d-18b639bfd6f5",
   "metadata": {},
   "outputs": [
    {
     "name": "stdout",
     "output_type": "stream",
     "text": [
      "Model saved as resnet50_pneumonia.pth\n"
     ]
    }
   ],
   "source": [
    "save_model(model)"
   ]
  },
  {
   "cell_type": "markdown",
   "id": "7da09d37-fdb4-4a9f-979c-7fdd9a074dc8",
   "metadata": {},
   "source": [
    "Fortunately, our ResNet50 network is outperforming the simple bias regressor. However, we clearly have an overfitting issue which we will address in the coming weeks."
   ]
  },
  {
   "cell_type": "code",
   "execution_count": null,
   "id": "9511356b-bf9d-4777-a787-18d8b0592698",
   "metadata": {},
   "outputs": [],
   "source": []
  }
 ],
 "metadata": {
  "kernelspec": {
   "display_name": "csse416",
   "language": "python",
   "name": "csse416"
  },
  "language_info": {
   "codemirror_mode": {
    "name": "ipython",
    "version": 3
   },
   "file_extension": ".py",
   "mimetype": "text/x-python",
   "name": "python",
   "nbconvert_exporter": "python",
   "pygments_lexer": "ipython3",
   "version": "3.12.3"
  }
 },
 "nbformat": 4,
 "nbformat_minor": 5
}
